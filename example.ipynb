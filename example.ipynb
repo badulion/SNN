{
 "cells": [
  {
   "cell_type": "code",
   "execution_count": 1,
   "metadata": {
    "scrolled": true
   },
   "outputs": [],
   "source": [
    "from neuralnet.neuralNetwork import *\n",
    "import numpy as np\n",
    "from lib.scalers import StandardScaler\n",
    "from sklearn.datasets import fetch_openml\n",
    "import matplotlib.pyplot as plt\n",
    "\n",
    "# this may take a while\n",
    "X, y = fetch_openml(\"mnist_784\", version=1, return_X_y=True)\n",
    "y = y.astype(int)"
   ]
  },
  {
   "cell_type": "code",
   "execution_count": 2,
   "metadata": {},
   "outputs": [],
   "source": [
    "#evaluation metrics\n",
    "def onehot(h):\n",
    "    return(np.eye(10)[h])\n",
    "\n",
    "def precision(y, h):\n",
    "    return (y*h).sum(axis=0)/h.sum(axis=0)\n",
    "\n",
    "def recall(y, h):\n",
    "    return (y*h).sum(axis=0)/y.sum(axis=0)\n",
    "\n",
    "def f1_score(y, h):\n",
    "    p = precision(y, h)\n",
    "    r = recall(y, h)\n",
    "    return 2*(p*r/(p+r)).mean()"
   ]
  },
  {
   "cell_type": "code",
   "execution_count": 3,
   "metadata": {},
   "outputs": [],
   "source": [
    "###------prepare the dataset---------------###\n",
    "# determine size of data set\n",
    "data_set_size = len(X)\n",
    "\n",
    "# determine size of the training data set (80% of X)\n",
    "train_size = int(data_set_size * 0.8)\n",
    "\n",
    "# create array with indices for X ([0, 1, 2, ...])\n",
    "idxs = np.arange(data_set_size)\n",
    "\n",
    "# fixing the numpy's seed makes sure that random\n",
    "# things (like np.random.shuffle) always produce\n",
    "# the same output – this way we distribute each image\n",
    "# to the same pseudo random dataset each time we\n",
    "# execute this cell\n",
    "np.random.seed = 42\n",
    "\n",
    "# we must not shuffle X directly, otherwise\n",
    "# we don't know anymore which entry in y belongs\n",
    "# to what entry in X! The solution is to shuffle\n",
    "# the indices, because this way we can select the\n",
    "# according entries from both, X and y\n",
    "np.random.shuffle(idxs)\n",
    "\n",
    "# the first 80% of the samples belong to the\n",
    "# training data set...\n",
    "train_idxs = idxs[:train_size]\n",
    "# ...and the rest belongs to the validation set\n",
    "validation_idxs = idxs[train_size:]\n",
    "\n",
    "#one_hotting the labels\n",
    "y_one_hot = np.eye(y.max() + 1)[y]\n",
    "\n",
    "#scaling the data\n",
    "scaler = StandardScaler()\n",
    "scaler.fit(X[train_idxs])\n",
    "X_scaled = scaler.transform(X)\n",
    "\n",
    "# now the actual partitioning into train and\n",
    "# validation set happens:\n",
    "data = {\n",
    "    \"train\": {\n",
    "        \"X_scaled\": X_scaled[train_idxs],\n",
    "        \"y_one_hot\": y_one_hot[train_idxs],\n",
    "    },\n",
    "    \"validation\": {\n",
    "        \"X_scaled\": X_scaled[validation_idxs],\n",
    "        \"y_one_hot\": y_one_hot[validation_idxs],\n",
    "    },\n",
    "}"
   ]
  },
  {
   "cell_type": "code",
   "execution_count": 4,
   "metadata": {},
   "outputs": [],
   "source": [
    "#define the model\n",
    "myModel = NeuralNetwork([\n",
    "    Layer(784, 1000),\n",
    "    Activation(\"leakyReLU\"),\n",
    "    Layer(1000, 1000),\n",
    "    Activation(\"leakyReLU\"),\n",
    "    Layer(1000, 10),\n",
    "    Activation(\"sigmoid\")\n",
    "])\n",
    "\n",
    "#choose the optimizer and loss function\n",
    "myModel.compile(\"GradientDescent\", \"BinaryCrossEntropy\")"
   ]
  },
  {
   "cell_type": "code",
   "execution_count": 8,
   "metadata": {},
   "outputs": [
    {
     "name": "stdout",
     "output_type": "stream",
     "text": [
      "Epoch 10/10   error=0.041537\r"
     ]
    }
   ],
   "source": [
    "#train the model\n",
    "myModel.fit(data[\"train\"][\"X_scaled\"], data[\"train\"][\"y_one_hot\"], 20, 1024)"
   ]
  },
  {
   "cell_type": "code",
   "execution_count": 10,
   "metadata": {},
   "outputs": [
    {
     "data": {
      "text/plain": [
       "[<matplotlib.lines.Line2D at 0x238165ba248>]"
      ]
     },
     "execution_count": 10,
     "metadata": {},
     "output_type": "execute_result"
    },
    {
     "data": {
      "image/png": "[encoded data removed]",
      "text/plain": [
       "<Figure size 432x288 with 1 Axes>"
      ]
     },
     "metadata": {
      "needs_background": "light"
     },
     "output_type": "display_data"
    }
   ],
   "source": [
    "#plot the error history\n",
    "plt.plot(myModel.loss.error_history)"
   ]
  },
  {
   "cell_type": "code",
   "execution_count": 22,
   "metadata": {},
   "outputs": [
    {
     "name": "stdout",
     "output_type": "stream",
     "text": [
      "Accuracy:  0.9673571428571428\n",
      "F-Score :  0.9669756918022578\n"
     ]
    }
   ],
   "source": [
    "#validation of the training:\n",
    "\n",
    "hypothesis_validation = myModel.predict(data[\"validation\"][\"X_scaled\"])\n",
    "hypothesis_validation_interpreted = np.argmax(hypothesis_validation, axis=1)\n",
    "y_validation_interpreted = np.argmax(data[\"validation\"][\"y_one_hot\"], axis=1)\n",
    "print(\"Accuracy: \", (y_validation_interpreted == hypothesis_validation_interpreted).sum()/len(y_validation_interpreted))\n",
    "print(\"F-Score : \", f1_score(onehot(y_validation_interpreted), onehot(hypothesis_validation_interpreted)))"
   ]
  },
  {
   "cell_type": "code",
   "execution_count": 19,
   "metadata": {},
   "outputs": [
    {
     "data": {
      "text/plain": [
       "0.9669756918022578"
      ]
     },
     "execution_count": 19,
     "metadata": {},
     "output_type": "execute_result"
    }
   ],
   "source": [
    "\n",
    "\n"
   ]
  }
 ],
 "metadata": {
  "kernelspec": {
   "display_name": "Python 3",
   "language": "python",
   "name": "python3"
  },
  "language_info": {
   "codemirror_mode": {
    "name": "ipython",
    "version": 3
   },
   "file_extension": ".py",
   "mimetype": "text/x-python",
   "name": "python",
   "nbconvert_exporter": "python",
   "pygments_lexer": "ipython3",
   "version": "3.7.5"
  }
 },
 "nbformat": 4,
 "nbformat_minor": 2
}
